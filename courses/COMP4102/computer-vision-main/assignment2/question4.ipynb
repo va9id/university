{
  "cells": [
    {
      "cell_type": "markdown",
      "metadata": {
        "id": "tUjA0X_vURsr"
      },
      "source": [
        "# Question 4"
      ]
    },
    {
      "cell_type": "code",
      "execution_count": 1,
      "metadata": {
        "id": "B8E8pTxz4Smw"
      },
      "outputs": [
        {
          "name": "stdout",
          "output_type": "stream",
          "text": [
            "Files already downloaded and verified\n",
            "Files already downloaded and verified\n"
          ]
        }
      ],
      "source": [
        "import torch\n",
        "import torchvision\n",
        "import torchvision.transforms as transforms\n",
        "from torch.autograd import Variable\n",
        "torch.cuda.is_available()\n",
        "\n",
        "transform = transforms.Compose(\n",
        "    [transforms.ToTensor(),\n",
        "     transforms.Normalize((0.5, 0.5, 0.5), (0.5, 0.5, 0.5))])\n",
        "\n",
        "trainset = torchvision.datasets.CIFAR10(root='./data', train=True,\n",
        "                                        download=True, transform=transform)\n",
        "trainloader = torch.utils.data.DataLoader(trainset, batch_size=4,\n",
        "                                          shuffle=True, num_workers=2)\n",
        "\n",
        "testset = torchvision.datasets.CIFAR10(root='./data', train=False,\n",
        "                                       download=True, transform=transform)\n",
        "testloader = torch.utils.data.DataLoader(testset, batch_size=4,\n",
        "                                         shuffle=False, num_workers=2)\n",
        "\n",
        "classes = ('plane', 'car', 'bird', 'cat',\n",
        "           'deer', 'dog', 'frog', 'horse', 'ship', 'truck')"
      ]
    },
    {
      "cell_type": "code",
      "execution_count": 2,
      "metadata": {
        "id": "KNPsQDrxmGNl"
      },
      "outputs": [
        {
          "name": "stdout",
          "output_type": "stream",
          "text": [
            "Net(\n",
            "  (conv1): Conv2d(3, 6, kernel_size=(5, 5), stride=(1, 1))\n",
            "  (pool): MaxPool2d(kernel_size=2, stride=2, padding=0, dilation=1, ceil_mode=False)\n",
            "  (conv2): Conv2d(6, 16, kernel_size=(5, 5), stride=(1, 1))\n",
            "  (fc1): Linear(in_features=400, out_features=120, bias=True)\n",
            "  (fc2): Linear(in_features=120, out_features=120, bias=True)\n",
            "  (fc3): Linear(in_features=120, out_features=10, bias=True)\n",
            ")\n"
          ]
        }
      ],
      "source": [
        "import torch.nn as nn\n",
        "import torch.nn.functional as F\n",
        "\n",
        "# Define the CNN Class\n",
        "class Net(nn.Module):\n",
        "    def __init__(self):\n",
        "        super(Net, self).__init__()\n",
        "\n",
        "        # Step 1: Create the first convolutional layer (conv1)\n",
        "        #   - Input channels: 3\n",
        "        #   - Output channels: 6\n",
        "        #   - Kernel size: 5\n",
        "        self.conv1 = nn.Conv2d(3, 6, 5)\n",
        "\n",
        "        # Step 2: Create max pooling layer (pool)\n",
        "        #   - Kernel size: 2\n",
        "        #   - Stride: 2\n",
        "        self.pool = nn.MaxPool2d(2, 2)\n",
        "        # Step 3: Create the second convolutional layer (conv2)\n",
        "        #   - Input channels: 6\n",
        "        #   - Output channels: 16\n",
        "        #   - Kernel size: 5\n",
        "        self.conv2 = nn.Conv2d(6, 16, 5)\n",
        "\n",
        "        # Step 4: Create the first fully connected layer (fc1)\n",
        "        #   - Input features: 16 * 5 * 5\n",
        "        #   - Output features: 120\n",
        "        self.fc1 = nn.Linear(16 * 5 * 5, 120)\n",
        "\n",
        "        # Step 5: Create the second fully connected layer (fc2)\n",
        "        #   - Input features: 120\n",
        "        #   - Output features: 120\n",
        "        self.fc2 = nn.Linear(120, 120)\n",
        "\n",
        "        # Step 6: Create the third fully connected layer (fc3)\n",
        "        #   - Input features: 120\n",
        "        #   - Output features: 10 (number of classes in CIFAR-10)\n",
        "        self.fc3 = nn.Linear(120, 10)\n",
        "\n",
        "    def forward(self, x):\n",
        "        # Step 7: Define the forward pass\n",
        "        #   - Apply conv1, followed by ReLU activation and max pooling\n",
        "        x = self.pool(F.relu(self.conv1(x)))\n",
        "        #   - Apply conv2, followed by ReLU activation and max pooling\n",
        "        x = self.pool(F.relu(self.conv2(x)))\n",
        "        #   - Reshape the tensor for the fully connected layers\n",
        "        x = x.view(-1, 16 * 5 * 5)\n",
        "        #   - Apply fc1, followed by ReLU activation\n",
        "        x = F.relu(self.fc1(x))\n",
        "        #   - Apply fc2, followed by ReLU activation\n",
        "        x = F.relu(self.fc2(x))\n",
        "        #   - Apply fc3 (output layer)\n",
        "        x = self.fc3(x)\n",
        "        #   - Return output\n",
        "        return x \n",
        "print(Net()) "
      ]
    },
    {
      "cell_type": "markdown",
      "metadata": {},
      "source": [
        "### CNN with Sigmoid function instead of relu"
      ]
    },
    {
      "cell_type": "code",
      "execution_count": 3,
      "metadata": {},
      "outputs": [
        {
          "name": "stdout",
          "output_type": "stream",
          "text": [
            "SigmoidNet(\n",
            "  (conv1): Conv2d(3, 6, kernel_size=(5, 5), stride=(1, 1))\n",
            "  (pool): MaxPool2d(kernel_size=2, stride=2, padding=0, dilation=1, ceil_mode=False)\n",
            "  (conv2): Conv2d(6, 16, kernel_size=(5, 5), stride=(1, 1))\n",
            "  (fc1): Linear(in_features=400, out_features=120, bias=True)\n",
            "  (fc2): Linear(in_features=120, out_features=120, bias=True)\n",
            "  (fc3): Linear(in_features=120, out_features=10, bias=True)\n",
            ")\n"
          ]
        }
      ],
      "source": [
        "import torch.nn as nn\n",
        "import torch.nn.functional as F\n",
        "\n",
        "# Define the CNN Class\n",
        "class SigmoidNet(nn.Module):\n",
        "    def __init__(self):\n",
        "        super(SigmoidNet, self).__init__()\n",
        "\n",
        "        # Step 1: Create the first convolutional layer (conv1)\n",
        "        #   - Input channels: 3\n",
        "        #   - Output channels: 6\n",
        "        #   - Kernel size: 5\n",
        "        self.conv1 = nn.Conv2d(3, 6, 5)\n",
        "\n",
        "        # Step 2: Create max pooling layer (pool)\n",
        "        #   - Kernel size: 2\n",
        "        #   - Stride: 2\n",
        "        self.pool = nn.MaxPool2d(2, 2)\n",
        "        # Step 3: Create the second convolutional layer (conv2)\n",
        "        #   - Input channels: 6\n",
        "        #   - Output channels: 16\n",
        "        #   - Kernel size: 5\n",
        "        self.conv2 = nn.Conv2d(6, 16, 5)\n",
        "\n",
        "        # Step 4: Create the first fully connected layer (fc1)\n",
        "        #   - Input features: 16 * 5 * 5\n",
        "        #   - Output features: 120\n",
        "        self.fc1 = nn.Linear(16 * 5 * 5, 120)\n",
        "\n",
        "        # Step 5: Create the second fully connected layer (fc2)\n",
        "        #   - Input features: 120\n",
        "        #   - Output features: 120\n",
        "        self.fc2 = nn.Linear(120, 120)\n",
        "\n",
        "        # Step 6: Create the third fully connected layer (fc3)\n",
        "        #   - Input features: 120\n",
        "        #   - Output features: 10 (number of classes in CIFAR-10)\n",
        "        self.fc3 = nn.Linear(120, 10)\n",
        "\n",
        "    def forward(self, x):\n",
        "        # Step 7: Define the forward pass\n",
        "        #   - Apply conv1, followed by ReLU activation and max pooling\n",
        "        x = self.pool(F.sigmoid(self.conv1(x)))\n",
        "        #   - Apply conv2, followed by ReLU activation and max pooling\n",
        "        x = self.pool(F.sigmoid(self.conv2(x)))\n",
        "        #   - Reshape the tensor for the fully connected layers\n",
        "        x = x.view(-1, 16 * 5 * 5)\n",
        "        #   - Apply fc1, followed by ReLU activation\n",
        "        x = F.sigmoid(self.fc1(x))\n",
        "        #   - Apply fc2, followed by ReLU activation\n",
        "        x = F.sigmoid(self.fc2(x))\n",
        "        #   - Apply fc3 (output layer)\n",
        "        x = self.fc3(x)\n",
        "        #   - Return output\n",
        "        return F.log_softmax(x) \n",
        "print(SigmoidNet()) "
      ]
    },
    {
      "cell_type": "code",
      "execution_count": 4,
      "metadata": {
        "id": "zWhZxxla4rTv"
      },
      "outputs": [
        {
          "name": "stdout",
          "output_type": "stream",
          "text": [
            "cpu\n"
          ]
        }
      ],
      "source": [
        "import torch.optim as optim\n",
        "net=Net()\n",
        "CUDA=torch.cuda.is_available()\n",
        "if CUDA:\n",
        "  net=net.cuda()\n",
        "\n",
        "# Let's first define our device as the first visible cuda device if we have\n",
        "# CUDA available:\n",
        "device = torch.device(\"cuda:0\" if torch.cuda.is_available() else \"cpu\")\n",
        "\n",
        "# Assuming that we are on a CUDA machine, this should print a CUDA device:\n",
        "print(device)\n",
        "\n",
        "#In Colab, got to Edit>Notebook settings> choose Python 3. For the hardware\n",
        "#accelerator, you may select None or GPU.\n"
      ]
    },
    {
      "cell_type": "code",
      "execution_count": 5,
      "metadata": {
        "id": "3gYlmnOXJEPX"
      },
      "outputs": [],
      "source": [
        "# 4. Train the network\n",
        "def network_training(net): \n",
        "  criterion = nn.CrossEntropyLoss()\n",
        "  optimizer = optim.SGD(net.parameters(), lr=0.001, momentum=0.9)\n",
        "  accuracy_values=[]\n",
        "  epoch_number=[]\n",
        "  for epoch in range(10):  # loop over the dataset multiple times. Here 10 means 10 epochs\n",
        "      running_loss = 0.0\n",
        "      for i, (inputs,labels) in enumerate(trainloader, 0):\n",
        "          # get the inputs; data is a list of [inputs, labels]\n",
        "          if CUDA:\n",
        "            inputs = inputs.cuda()\n",
        "            labels = labels.cuda()\n",
        "          else:\n",
        "            inputs = inputs.cpu()\n",
        "            labels = labels.cpu()\n",
        "\n",
        "          # zero the parameter gradients\n",
        "          optimizer.zero_grad()\n",
        "\n",
        "          # forward + backward + optimize\n",
        "          outputs = net(inputs)\n",
        "          loss = criterion(outputs, labels)\n",
        "          loss.backward()\n",
        "          optimizer.step()\n",
        "\n",
        "          # print statistics\n",
        "          running_loss += loss.item()\n",
        "          if i % 2000 == 1999:    # print every 2000 mini-batches\n",
        "              print('[epoch%d, itr%5d] loss: %.3f' %\n",
        "                    (epoch + 1, i + 1, running_loss / 2000))\n",
        "              running_loss = 0.0\n",
        "\n",
        "      correct = 0\n",
        "      total = 0\n",
        "      with torch.no_grad():\n",
        "          for images, labels in testloader:\n",
        "              if CUDA:\n",
        "                images = images.cuda()\n",
        "                labels = labels.cuda()\n",
        "              else:\n",
        "                images = images.cpu()\n",
        "                labels =labels.cpu()\n",
        "\n",
        "              outputs = net(images)\n",
        "              _, predicted = torch.max(outputs.data, 1)\n",
        "              total += labels.size(0)\n",
        "              if CUDA:\n",
        "                correct += (predicted.cpu()==labels.cpu()).sum().item()\n",
        "              else:\n",
        "                correct += (predicted==labels).sum().item()\n",
        "\n",
        "          TestAccuracy = 100 * correct / total;\n",
        "          epoch_number += [epoch+1]\n",
        "          accuracy_values += [TestAccuracy]\n",
        "          print('Epoch=%d Test Accuracy=%.3f' %\n",
        "                    (epoch + 1, TestAccuracy))\n",
        "\n",
        "  print('Finished Training')\n",
        "  return accuracy_values, epoch_number"
      ]
    },
    {
      "cell_type": "markdown",
      "metadata": {},
      "source": []
    },
    {
      "cell_type": "code",
      "execution_count": 6,
      "metadata": {
        "id": "5TRFTQ1eYt4g"
      },
      "outputs": [
        {
          "name": "stdout",
          "output_type": "stream",
          "text": [
            "[epoch1, itr 2000] loss: 2.222\n",
            "[epoch1, itr 4000] loss: 1.899\n",
            "[epoch1, itr 6000] loss: 1.685\n",
            "[epoch1, itr 8000] loss: 1.581\n",
            "[epoch1, itr10000] loss: 1.528\n",
            "[epoch1, itr12000] loss: 1.495\n",
            "Epoch=1 Test Accuracy=46.700\n",
            "[epoch2, itr 2000] loss: 1.397\n",
            "[epoch2, itr 4000] loss: 1.379\n",
            "[epoch2, itr 6000] loss: 1.371\n",
            "[epoch2, itr 8000] loss: 1.353\n",
            "[epoch2, itr10000] loss: 1.294\n",
            "[epoch2, itr12000] loss: 1.288\n",
            "Epoch=2 Test Accuracy=55.560\n",
            "[epoch3, itr 2000] loss: 1.215\n",
            "[epoch3, itr 4000] loss: 1.214\n",
            "[epoch3, itr 6000] loss: 1.221\n",
            "[epoch3, itr 8000] loss: 1.217\n",
            "[epoch3, itr10000] loss: 1.193\n",
            "[epoch3, itr12000] loss: 1.168\n",
            "Epoch=3 Test Accuracy=57.480\n",
            "[epoch4, itr 2000] loss: 1.113\n",
            "[epoch4, itr 4000] loss: 1.120\n",
            "[epoch4, itr 6000] loss: 1.109\n",
            "[epoch4, itr 8000] loss: 1.114\n",
            "[epoch4, itr10000] loss: 1.133\n",
            "[epoch4, itr12000] loss: 1.088\n",
            "Epoch=4 Test Accuracy=59.040\n",
            "[epoch5, itr 2000] loss: 1.027\n",
            "[epoch5, itr 4000] loss: 1.024\n",
            "[epoch5, itr 6000] loss: 1.063\n",
            "[epoch5, itr 8000] loss: 1.034\n",
            "[epoch5, itr10000] loss: 1.048\n",
            "[epoch5, itr12000] loss: 1.064\n",
            "Epoch=5 Test Accuracy=60.110\n",
            "[epoch6, itr 2000] loss: 0.957\n",
            "[epoch6, itr 4000] loss: 0.979\n",
            "[epoch6, itr 6000] loss: 0.978\n",
            "[epoch6, itr 8000] loss: 0.989\n",
            "[epoch6, itr10000] loss: 0.997\n",
            "[epoch6, itr12000] loss: 1.012\n",
            "Epoch=6 Test Accuracy=61.760\n",
            "[epoch7, itr 2000] loss: 0.898\n",
            "[epoch7, itr 4000] loss: 0.920\n",
            "[epoch7, itr 6000] loss: 0.927\n",
            "[epoch7, itr 8000] loss: 0.931\n",
            "[epoch7, itr10000] loss: 0.949\n",
            "[epoch7, itr12000] loss: 0.968\n",
            "Epoch=7 Test Accuracy=61.110\n",
            "[epoch8, itr 2000] loss: 0.858\n",
            "[epoch8, itr 4000] loss: 0.890\n",
            "[epoch8, itr 6000] loss: 0.901\n",
            "[epoch8, itr 8000] loss: 0.900\n",
            "[epoch8, itr10000] loss: 0.903\n",
            "[epoch8, itr12000] loss: 0.925\n",
            "Epoch=8 Test Accuracy=62.120\n",
            "[epoch9, itr 2000] loss: 0.830\n",
            "[epoch9, itr 4000] loss: 0.828\n",
            "[epoch9, itr 6000] loss: 0.857\n",
            "[epoch9, itr 8000] loss: 0.875\n",
            "[epoch9, itr10000] loss: 0.869\n",
            "[epoch9, itr12000] loss: 0.889\n",
            "Epoch=9 Test Accuracy=61.230\n",
            "[epoch10, itr 2000] loss: 0.784\n",
            "[epoch10, itr 4000] loss: 0.812\n",
            "[epoch10, itr 6000] loss: 0.832\n",
            "[epoch10, itr 8000] loss: 0.852\n",
            "[epoch10, itr10000] loss: 0.847\n",
            "[epoch10, itr12000] loss: 0.855\n",
            "Epoch=10 Test Accuracy=63.010\n",
            "Finished Training\n"
          ]
        },
        {
          "name": "stderr",
          "output_type": "stream",
          "text": [
            "/var/folders/ml/cdcmdw7159jfj4mnv41j07y40000gn/T/ipykernel_18489/4023445363.py:55: UserWarning: Implicit dimension choice for log_softmax has been deprecated. Change the call to include dim=X as an argument.\n",
            "  return F.log_softmax(x)\n"
          ]
        },
        {
          "name": "stdout",
          "output_type": "stream",
          "text": [
            "[epoch1, itr 2000] loss: 2.320\n",
            "[epoch1, itr 4000] loss: 2.319\n",
            "[epoch1, itr 6000] loss: 2.317\n",
            "[epoch1, itr 8000] loss: 2.316\n",
            "[epoch1, itr10000] loss: 2.316\n",
            "[epoch1, itr12000] loss: 2.314\n",
            "Epoch=1 Test Accuracy=10.000\n",
            "[epoch2, itr 2000] loss: 2.313\n",
            "[epoch2, itr 4000] loss: 2.310\n",
            "[epoch2, itr 6000] loss: 2.310\n",
            "[epoch2, itr 8000] loss: 2.309\n",
            "[epoch2, itr10000] loss: 2.309\n",
            "[epoch2, itr12000] loss: 2.308\n",
            "Epoch=2 Test Accuracy=10.000\n",
            "[epoch3, itr 2000] loss: 2.308\n",
            "[epoch3, itr 4000] loss: 2.307\n",
            "[epoch3, itr 6000] loss: 2.307\n",
            "[epoch3, itr 8000] loss: 2.307\n",
            "[epoch3, itr10000] loss: 2.306\n",
            "[epoch3, itr12000] loss: 2.306\n",
            "Epoch=3 Test Accuracy=10.000\n",
            "[epoch4, itr 2000] loss: 2.306\n",
            "[epoch4, itr 4000] loss: 2.305\n",
            "[epoch4, itr 6000] loss: 2.306\n",
            "[epoch4, itr 8000] loss: 2.305\n",
            "[epoch4, itr10000] loss: 2.305\n",
            "[epoch4, itr12000] loss: 2.304\n",
            "Epoch=4 Test Accuracy=10.000\n",
            "[epoch5, itr 2000] loss: 2.305\n",
            "[epoch5, itr 4000] loss: 2.305\n",
            "[epoch5, itr 6000] loss: 2.305\n",
            "[epoch5, itr 8000] loss: 2.304\n",
            "[epoch5, itr10000] loss: 2.304\n",
            "[epoch5, itr12000] loss: 2.305\n",
            "Epoch=5 Test Accuracy=10.000\n",
            "[epoch6, itr 2000] loss: 2.304\n",
            "[epoch6, itr 4000] loss: 2.304\n",
            "[epoch6, itr 6000] loss: 2.304\n",
            "[epoch6, itr 8000] loss: 2.304\n",
            "[epoch6, itr10000] loss: 2.304\n",
            "[epoch6, itr12000] loss: 2.304\n",
            "Epoch=6 Test Accuracy=10.000\n",
            "[epoch7, itr 2000] loss: 2.304\n",
            "[epoch7, itr 4000] loss: 2.304\n",
            "[epoch7, itr 6000] loss: 2.304\n",
            "[epoch7, itr 8000] loss: 2.304\n",
            "[epoch7, itr10000] loss: 2.304\n",
            "[epoch7, itr12000] loss: 2.304\n",
            "Epoch=7 Test Accuracy=10.000\n",
            "[epoch8, itr 2000] loss: 2.304\n",
            "[epoch8, itr 4000] loss: 2.304\n",
            "[epoch8, itr 6000] loss: 2.304\n",
            "[epoch8, itr 8000] loss: 2.303\n",
            "[epoch8, itr10000] loss: 2.304\n",
            "[epoch8, itr12000] loss: 2.303\n",
            "Epoch=8 Test Accuracy=10.000\n",
            "[epoch9, itr 2000] loss: 2.303\n",
            "[epoch9, itr 4000] loss: 2.303\n",
            "[epoch9, itr 6000] loss: 2.303\n",
            "[epoch9, itr 8000] loss: 2.303\n",
            "[epoch9, itr10000] loss: 2.303\n",
            "[epoch9, itr12000] loss: 2.303\n",
            "Epoch=9 Test Accuracy=10.000\n",
            "[epoch10, itr 2000] loss: 2.303\n",
            "[epoch10, itr 4000] loss: 2.303\n",
            "[epoch10, itr 6000] loss: 2.303\n",
            "[epoch10, itr 8000] loss: 2.302\n",
            "[epoch10, itr10000] loss: 2.302\n",
            "[epoch10, itr12000] loss: 2.302\n",
            "Epoch=10 Test Accuracy=10.000\n",
            "Finished Training\n"
          ]
        },
        {
          "data": {
            "image/png": "[encoded data removed]",
            "text/plain": [
              "<Figure size 640x480 with 1 Axes>"
            ]
          },
          "metadata": {},
          "output_type": "display_data"
        }
      ],
      "source": [
        "import matplotlib.pyplot as plt\n",
        "import numpy as np\n",
        "\n",
        "nets = [Net(), SigmoidNet()]\n",
        "names = [\"Relu\", \"Sigmoid\"]\n",
        "colors = [\"blue\", \"red\"]\n",
        "\n",
        "for net, name, color in zip(nets, names, colors):\n",
        "    trainloader = torch.utils.data.DataLoader(trainset, batch_size=4, shuffle=True, num_workers=2)\n",
        "    testloader = torch.utils.data.DataLoader(testset, batch_size=4, shuffle=False, num_workers=2)\n",
        "    accuracy_values, epoch_number = network_training(net)\n",
        "    # Plot the data\n",
        "    plt.plot(epoch_number, accuracy_values, color=color, label=name)\n",
        "\n",
        "plt.xlabel(\"Epoch\")\n",
        "plt.ylabel(\"Accuracy\")\n",
        "\n",
        "# Add a legend\n",
        "plt.legend()\n",
        "\n",
        "# Show the plot\n",
        "plt.show()\n",
        "\n",
        "## Anything better than 10% accuracy (randomly picking a class out of 10 classes)\n",
        "# means the network has learned something."
      ]
    },
    {
      "cell_type": "markdown",
      "metadata": {
        "id": "5ovuSCAMRJaB"
      },
      "source": [
        "#Additional code to explore the dataset and the trained model"
      ]
    },
    {
      "cell_type": "code",
      "execution_count": 7,
      "metadata": {
        "id": "xPDRDas64btL"
      },
      "outputs": [
        {
          "name": "stdout",
          "output_type": "stream",
          "text": [
            "torch.Size([4, 3, 32, 32])\n"
          ]
        },
        {
          "data": {
            "image/png": "[encoded data removed]",
            "text/plain": [
              "<Figure size 640x480 with 1 Axes>"
            ]
          },
          "metadata": {},
          "output_type": "display_data"
        },
        {
          "name": "stdout",
          "output_type": "stream",
          "text": [
            "plane plane   cat   car\n"
          ]
        }
      ],
      "source": [
        "# Show some random training images\n",
        "\n",
        "import matplotlib.pyplot as plt\n",
        "import numpy as np\n",
        "\n",
        "# functions to show an image\n",
        "def imshow(img):\n",
        "    img = img / 2 + 0.5     # unnormalize\n",
        "    npimg = img.numpy()\n",
        "    plt.imshow(np.transpose(npimg, (1, 2, 0)))\n",
        "    plt.show()\n",
        "\n",
        "# get some random training images\n",
        "dataiter = iter(trainloader)\n",
        "images, labels = next(dataiter)\n",
        "print(images.size())\n",
        "# show images\n",
        "imshow(torchvision.utils.make_grid(images))\n",
        "# print labels\n",
        "print(' '.join('%5s' % classes[labels[j]] for j in range(4)))"
      ]
    },
    {
      "cell_type": "code",
      "execution_count": 8,
      "metadata": {
        "id": "mmQoiOSz46E2"
      },
      "outputs": [
        {
          "data": {
            "image/png": "[encoded data removed]",
            "text/plain": [
              "<Figure size 640x480 with 1 Axes>"
            ]
          },
          "metadata": {},
          "output_type": "display_data"
        },
        {
          "name": "stdout",
          "output_type": "stream",
          "text": [
            "GroundTruth:    cat  ship  ship plane\n",
            "Predicted:  plane plane plane plane\n"
          ]
        },
        {
          "name": "stderr",
          "output_type": "stream",
          "text": [
            "/var/folders/ml/cdcmdw7159jfj4mnv41j07y40000gn/T/ipykernel_18489/4023445363.py:55: UserWarning: Implicit dimension choice for log_softmax has been deprecated. Change the call to include dim=X as an argument.\n",
            "  return F.log_softmax(x)\n"
          ]
        }
      ],
      "source": [
        "# Test the network on some test images\n",
        "\n",
        "dataiter = iter(testloader)\n",
        "images, labels = next(dataiter)\n",
        "\n",
        "# print images\n",
        "imshow(torchvision.utils.make_grid(images))\n",
        "print('GroundTruth: ', ' '.join('%5s' % classes[labels[j]] for j in range(4)))\n",
        "\n",
        "# The outputs are energies for the 10 classes.\n",
        "# The higher the energy for a class, the more the network\n",
        "# thinks that the image is of the particular class.\n",
        "# So, let's get the index of the highest energy:\n",
        "if CUDA:\n",
        "  images = images.cuda()\n",
        "  labels = labels.cuda()\n",
        "else:\n",
        "  images = images.cpu()\n",
        "  labels =labels.cpu()\n",
        "outputs = net(images)\n",
        "_, predicted = torch.max(outputs, 1)\n",
        "\n",
        "print('Predicted: ', ' '.join('%5s' % classes[predicted[j]]\n",
        "                              for j in range(4)))\n"
      ]
    },
    {
      "cell_type": "code",
      "execution_count": 9,
      "metadata": {
        "id": "aT8hcwhg5H7W"
      },
      "outputs": [
        {
          "name": "stderr",
          "output_type": "stream",
          "text": [
            "/var/folders/ml/cdcmdw7159jfj4mnv41j07y40000gn/T/ipykernel_18489/4023445363.py:55: UserWarning: Implicit dimension choice for log_softmax has been deprecated. Change the call to include dim=X as an argument.\n",
            "  return F.log_softmax(x)\n"
          ]
        },
        {
          "name": "stdout",
          "output_type": "stream",
          "text": [
            "Accuracy of plane : 100 %\n",
            "Accuracy of   car :  0 %\n",
            "Accuracy of  bird :  0 %\n",
            "Accuracy of   cat :  0 %\n",
            "Accuracy of  deer :  0 %\n",
            "Accuracy of   dog :  0 %\n",
            "Accuracy of  frog :  0 %\n",
            "Accuracy of horse :  0 %\n",
            "Accuracy of  ship :  0 %\n",
            "Accuracy of truck :  0 %\n"
          ]
        }
      ],
      "source": [
        "# Lets check what are the classes that performed well, and the classes that did\n",
        "# not perform well:\n",
        "\n",
        "class_correct = list(0. for i in range(10))\n",
        "class_total = list(0. for i in range(10))\n",
        "with torch.no_grad():\n",
        "    for images, labels in testloader:\n",
        "        if CUDA:\n",
        "          images =images.cuda()\n",
        "          labels =labels.cuda()\n",
        "        else:\n",
        "          images =images.cpu()\n",
        "          labels =labels.cpu()\n",
        "\n",
        "        outputs = net(images)\n",
        "        _, predicted = torch.max(outputs, 1)\n",
        "        c = (predicted == labels).squeeze()\n",
        "        for i in range(4):\n",
        "            label = labels[i]\n",
        "            class_correct[label] += c[i].item()\n",
        "            class_total[label] += 1\n",
        "\n",
        "\n",
        "for i in range(10):\n",
        "    print('Accuracy of %5s : %2d %%' % (\n",
        "        classes[i], 100 * class_correct[i] / class_total[i]))"
      ]
    }
  ],
  "metadata": {
    "accelerator": "GPU",
    "colab": {
      "provenance": []
    },
    "kernelspec": {
      "display_name": "Python 3",
      "language": "python",
      "name": "python3"
    },
    "language_info": {
      "codemirror_mode": {
        "name": "ipython",
        "version": 3
      },
      "file_extension": ".py",
      "mimetype": "text/x-python",
      "name": "python",
      "nbconvert_exporter": "python",
      "pygments_lexer": "ipython3",
      "version": "3.9.1"
    }
  },
  "nbformat": 4,
  "nbformat_minor": 0
}
